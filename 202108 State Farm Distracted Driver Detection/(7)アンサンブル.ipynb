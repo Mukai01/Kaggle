{
 "cells": [
  {
   "cell_type": "markdown",
   "metadata": {},
   "source": [
    "# (7)アンサンブル"
   ]
  },
  {
   "cell_type": "code",
   "execution_count": 1,
   "metadata": {},
   "outputs": [],
   "source": [
    "#データの読み込み\n",
    "import pandas as pd\n",
    "df1=pd.read_csv('(f)final_result_svm.csv')\n",
    "df2=pd.read_csv('(g)final_result_nn.csv')\n",
    "df3=pd.read_csv('(h)final_result_rf.csv')\n",
    "df4=pd.read_csv('(i)final_result_xgb.csv')\n",
    "df5=pd.read_csv('(d)0927-vgg-pose-0.21loss-score0.20_test.csv')\n",
    "df6=pd.read_csv('(d)0924-vgg-pose-64ep-0.37loss-score0.31_test.csv')\n",
    "df7=pd.read_csv('(e)0927-efficient-pose-0.38loss-score0.36_test.csv')"
   ]
  },
  {
   "cell_type": "code",
   "execution_count": 2,
   "metadata": {},
   "outputs": [],
   "source": [
    "#データの結合\n",
    "df=pd.merge(df1,df2,how='left',on='img')\n",
    "df=pd.merge(df,df3,how='left',on='img')\n",
    "df=pd.merge(df,df4,how='left',on='img')\n",
    "df=pd.merge(df,df5,how='left',on='img')\n",
    "df=pd.merge(df,df6,how='left',on='img')\n",
    "df=pd.merge(df,df7,how='left',on='img')"
   ]
  },
  {
   "cell_type": "code",
   "execution_count": 3,
   "metadata": {
    "scrolled": true
   },
   "outputs": [
    {
     "data": {
      "text/html": [
       "<div>\n",
       "<style scoped>\n",
       "    .dataframe tbody tr th:only-of-type {\n",
       "        vertical-align: middle;\n",
       "    }\n",
       "\n",
       "    .dataframe tbody tr th {\n",
       "        vertical-align: top;\n",
       "    }\n",
       "\n",
       "    .dataframe thead th {\n",
       "        text-align: right;\n",
       "    }\n",
       "</style>\n",
       "<table border=\"1\" class=\"dataframe\">\n",
       "  <thead>\n",
       "    <tr style=\"text-align: right;\">\n",
       "      <th></th>\n",
       "      <th>img</th>\n",
       "      <th>c0</th>\n",
       "      <th>c1</th>\n",
       "      <th>c2</th>\n",
       "      <th>c3</th>\n",
       "      <th>c4</th>\n",
       "      <th>c5</th>\n",
       "      <th>c6</th>\n",
       "      <th>c7</th>\n",
       "      <th>c8</th>\n",
       "      <th>c9</th>\n",
       "    </tr>\n",
       "  </thead>\n",
       "  <tbody>\n",
       "    <tr>\n",
       "      <th>0</th>\n",
       "      <td>img_1.jpg</td>\n",
       "      <td>0.000410</td>\n",
       "      <td>0.000255</td>\n",
       "      <td>0.000238</td>\n",
       "      <td>0.000129</td>\n",
       "      <td>0.000193</td>\n",
       "      <td>0.995836</td>\n",
       "      <td>0.000209</td>\n",
       "      <td>0.000106</td>\n",
       "      <td>0.002273</td>\n",
       "      <td>0.000350</td>\n",
       "    </tr>\n",
       "    <tr>\n",
       "      <th>1</th>\n",
       "      <td>img_10.jpg</td>\n",
       "      <td>0.000218</td>\n",
       "      <td>0.000234</td>\n",
       "      <td>0.000227</td>\n",
       "      <td>0.000117</td>\n",
       "      <td>0.000142</td>\n",
       "      <td>0.998246</td>\n",
       "      <td>0.000156</td>\n",
       "      <td>0.000101</td>\n",
       "      <td>0.000276</td>\n",
       "      <td>0.000282</td>\n",
       "    </tr>\n",
       "    <tr>\n",
       "      <th>2</th>\n",
       "      <td>img_100.jpg</td>\n",
       "      <td>0.988655</td>\n",
       "      <td>0.000558</td>\n",
       "      <td>0.000355</td>\n",
       "      <td>0.000962</td>\n",
       "      <td>0.000672</td>\n",
       "      <td>0.001383</td>\n",
       "      <td>0.000461</td>\n",
       "      <td>0.000496</td>\n",
       "      <td>0.002287</td>\n",
       "      <td>0.004171</td>\n",
       "    </tr>\n",
       "    <tr>\n",
       "      <th>3</th>\n",
       "      <td>img_1000.jpg</td>\n",
       "      <td>0.011177</td>\n",
       "      <td>0.001225</td>\n",
       "      <td>0.370798</td>\n",
       "      <td>0.008373</td>\n",
       "      <td>0.003057</td>\n",
       "      <td>0.003475</td>\n",
       "      <td>0.011522</td>\n",
       "      <td>0.010165</td>\n",
       "      <td>0.563867</td>\n",
       "      <td>0.016342</td>\n",
       "    </tr>\n",
       "    <tr>\n",
       "      <th>4</th>\n",
       "      <td>img_100000.jpg</td>\n",
       "      <td>0.000376</td>\n",
       "      <td>0.000363</td>\n",
       "      <td>0.000211</td>\n",
       "      <td>0.996949</td>\n",
       "      <td>0.000513</td>\n",
       "      <td>0.000176</td>\n",
       "      <td>0.000130</td>\n",
       "      <td>0.000192</td>\n",
       "      <td>0.000248</td>\n",
       "      <td>0.000844</td>\n",
       "    </tr>\n",
       "  </tbody>\n",
       "</table>\n",
       "</div>"
      ],
      "text/plain": [
       "              img        c0        c1        c2        c3        c4        c5  \\\n",
       "0       img_1.jpg  0.000410  0.000255  0.000238  0.000129  0.000193  0.995836   \n",
       "1      img_10.jpg  0.000218  0.000234  0.000227  0.000117  0.000142  0.998246   \n",
       "2     img_100.jpg  0.988655  0.000558  0.000355  0.000962  0.000672  0.001383   \n",
       "3    img_1000.jpg  0.011177  0.001225  0.370798  0.008373  0.003057  0.003475   \n",
       "4  img_100000.jpg  0.000376  0.000363  0.000211  0.996949  0.000513  0.000176   \n",
       "\n",
       "         c6        c7        c8        c9  \n",
       "0  0.000209  0.000106  0.002273  0.000350  \n",
       "1  0.000156  0.000101  0.000276  0.000282  \n",
       "2  0.000461  0.000496  0.002287  0.004171  \n",
       "3  0.011522  0.010165  0.563867  0.016342  \n",
       "4  0.000130  0.000192  0.000248  0.000844  "
      ]
     },
     "execution_count": 3,
     "metadata": {},
     "output_type": "execute_result"
    }
   ],
   "source": [
    "#平均を計算\n",
    "df_result=df1.copy()\n",
    "for i in range(10):\n",
    "    df_result.iloc[:,i+1]=(df.iloc[:,i+1]*0.5+df.iloc[:,i+11]*0.5+df.iloc[:,i+21]*0.5+df.iloc[:,i+31]*0.5+df.iloc[:,i+41]+df.iloc[:,i+51]+df.iloc[:,i+61])/5\n",
    "df_result.head()"
   ]
  },
  {
   "cell_type": "code",
   "execution_count": 4,
   "metadata": {
    "scrolled": true
   },
   "outputs": [
    {
     "data": {
      "text/plain": [
       "0        1.0\n",
       "1        1.0\n",
       "2        1.0\n",
       "3        1.0\n",
       "4        1.0\n",
       "        ... \n",
       "79721    1.0\n",
       "79722    1.0\n",
       "79723    1.0\n",
       "79724    1.0\n",
       "79725    1.0\n",
       "Length: 79726, dtype: float64"
      ]
     },
     "execution_count": 4,
     "metadata": {},
     "output_type": "execute_result"
    }
   ],
   "source": [
    "#合計が1になることを確認\n",
    "df_result.sum(axis=1)"
   ]
  },
  {
   "cell_type": "code",
   "execution_count": 5,
   "metadata": {},
   "outputs": [],
   "source": [
    "df_result.to_csv('ensemble_result.csv',index=False)"
   ]
  }
 ],
 "metadata": {
  "kernelspec": {
   "display_name": "Python 3",
   "language": "python",
   "name": "python3"
  },
  "language_info": {
   "codemirror_mode": {
    "name": "ipython",
    "version": 3
   },
   "file_extension": ".py",
   "mimetype": "text/x-python",
   "name": "python",
   "nbconvert_exporter": "python",
   "pygments_lexer": "ipython3",
   "version": "3.6.9"
  }
 },
 "nbformat": 4,
 "nbformat_minor": 4
}
